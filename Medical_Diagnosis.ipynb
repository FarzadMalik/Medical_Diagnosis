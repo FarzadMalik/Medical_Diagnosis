{
 "cells": [
  {
   "cell_type": "markdown",
   "metadata": {
    "id": "QKWcUdt1r7P6"
   },
   "source": [
    "# Data Preparation and Processing with Numpy\n",
    "Here we'll generate a random medical dataset where-\n",
    "\n",
    "\n",
    "*   age 13-100\n",
    "*   2100 participents, 50% less than 65 years old, rest of em are older\n",
    "*   95% older experienced side effects\n",
    "*   5% youngers experienced side effects\n",
    "\n",
    "\n",
    "\n",
    "\n"
   ]
  },
  {
   "cell_type": "markdown",
   "metadata": {
    "id": "Pbc1zAk5twQh"
   },
   "source": [
    "import the needed libraries for generating datasets\n"
   ]
  },
  {
   "cell_type": "code",
   "execution_count": 1,
   "metadata": {
    "id": "q8uIKUJYoVQH"
   },
   "outputs": [],
   "source": [
    "import numpy as np\n",
    "from random import randint\n",
    "from sklearn.utils import shuffle\n",
    "from sklearn.preprocessing import MinMaxScaler"
   ]
  },
  {
   "cell_type": "markdown",
   "metadata": {},
   "source": [
    "Describe log directory"
   ]
  },
  {
   "cell_type": "code",
   "execution_count": 2,
   "metadata": {},
   "outputs": [],
   "source": [
    "logdir='log'"
   ]
  },
  {
   "cell_type": "markdown",
   "metadata": {
    "id": "iqoSQHfxt4S5"
   },
   "source": [
    "creat empty list"
   ]
  },
  {
   "cell_type": "code",
   "execution_count": 3,
   "metadata": {
    "id": "RQRJR6KHtMBL"
   },
   "outputs": [],
   "source": [
    "train_labels=[]\n",
    "train_samples=[]"
   ]
  },
  {
   "cell_type": "markdown",
   "metadata": {
    "id": "R_Z50cACt8xw"
   },
   "source": [
    "Generate the datas and append them to the datasets"
   ]
  },
  {
   "cell_type": "code",
   "execution_count": 4,
   "metadata": {
    "id": "JICanrhEtSoA"
   },
   "outputs": [],
   "source": [
    "for i in range(50):\n",
    "  #1 means side effect\n",
    "  random_younger = randint(13,65)\n",
    "  train_samples.append(random_younger)\n",
    "  train_labels.append(1)\n",
    "\n",
    "  random_older = randint(65,100)\n",
    "  train_samples.append(random_older)\n",
    "  train_labels.append(0)\n",
    "\n",
    "for i in range(1000):\n",
    "  random_younger = randint(13,65)\n",
    "  train_samples.append(random_younger)\n",
    "  train_labels.append(0)\n",
    "\n",
    "  random_older = randint(65,100)\n",
    "  train_samples.append(random_older)\n",
    "  train_labels.append(1)\n"
   ]
  },
  {
   "cell_type": "markdown",
   "metadata": {
    "id": "M4egjGwpGW50"
   },
   "source": [
    "Now, we'll convert these lists into NumPy array"
   ]
  },
  {
   "cell_type": "code",
   "execution_count": 5,
   "metadata": {
    "id": "6dNp0JBKGbiZ"
   },
   "outputs": [],
   "source": [
    "train_samples = np.array(train_samples)\n",
    "train_labels = np.array(train_labels)\n",
    "train_labels, train_samples = shuffle(train_labels, train_samples)"
   ]
  },
  {
   "cell_type": "markdown",
   "metadata": {
    "id": "kgGUzHpUHJBE"
   },
   "source": [
    "Now we'll **NORMALIZE** the data using MinMaxScaler"
   ]
  },
  {
   "cell_type": "code",
   "execution_count": 6,
   "metadata": {
    "id": "ifLGlFd-HPB3"
   },
   "outputs": [],
   "source": [
    "scaler = MinMaxScaler(feature_range= (0,1))\n",
    "scaled_train_samples = scaler.fit_transform(train_samples.reshape(-1,1))\n"
   ]
  },
  {
   "cell_type": "markdown",
   "metadata": {
    "id": "OAVlntOlIefU"
   },
   "source": [
    "Here we'll input all of the Deeplearning moduls we need for our model."
   ]
  },
  {
   "cell_type": "code",
   "execution_count": 7,
   "metadata": {
    "id": "ApWxvrzeH4UT"
   },
   "outputs": [],
   "source": [
    "import tensorflow as tf\n",
    "from tensorflow import keras\n",
    "from tensorflow.keras.models import Sequential\n",
    "from keras.layers import Activation, Dense\n",
    "from tensorflow.keras.optimizers import Adam"
   ]
  },
  {
   "cell_type": "markdown",
   "metadata": {
    "id": "kfmAtg1iI-MU"
   },
   "source": [
    "# **BUILDING** the actual model\n",
    "\n",
    "\n",
    "*   Sequential  is a linear model with 1 input and 1 output\n",
    "*   ReLU  is the most commonly used activation function in deep learning. The function returns 0 if the input is negative, but for any positive input, it returns that value back.\n",
    "*   The softmax function is used as the activation function in the output layer of neural network models that predict a multinomial probability \n",
    "*italicised text*\n",
    "\n",
    "\n",
    "\n",
    "\n",
    "\n"
   ]
  },
  {
   "cell_type": "code",
   "execution_count": 8,
   "metadata": {
    "id": "6Ak99N9fJA7A"
   },
   "outputs": [],
   "source": [
    "model = Sequential([\n",
    "    Dense(16, input_shape=(1,),activation = 'relu'),\n",
    "    Dense(32, activation = 'relu'),\n",
    "    Dense(2, activation = 'softmax')\n",
    "]\n",
    ")"
   ]
  },
  {
   "cell_type": "markdown",
   "metadata": {
    "id": "bNiU6dKGQcg7"
   },
   "source": [
    "we'll print out the architecture of the model now"
   ]
  },
  {
   "cell_type": "code",
   "execution_count": 9,
   "metadata": {
    "colab": {
     "base_uri": "https://localhost:8080/"
    },
    "id": "m8L0M1DzJ3KL",
    "outputId": "5b83f815-21d2-4f7e-d673-9aa0f9824601"
   },
   "outputs": [
    {
     "name": "stdout",
     "output_type": "stream",
     "text": [
      "Model: \"sequential\"\n",
      "_________________________________________________________________\n",
      " Layer (type)                Output Shape              Param #   \n",
      "=================================================================\n",
      " dense (Dense)               (None, 16)                32        \n",
      "                                                                 \n",
      " dense_1 (Dense)             (None, 32)                544       \n",
      "                                                                 \n",
      " dense_2 (Dense)             (None, 2)                 66        \n",
      "                                                                 \n",
      "=================================================================\n",
      "Total params: 642\n",
      "Trainable params: 642\n",
      "Non-trainable params: 0\n",
      "_________________________________________________________________\n"
     ]
    }
   ],
   "source": [
    "model.summary()"
   ]
  },
  {
   "cell_type": "markdown",
   "metadata": {
    "id": "rk38ly7bocVV"
   },
   "source": [
    "# Compliling the data\n",
    "Compiliong the model prepares it for the training. Here we need to configure the following things:\n",
    "\n",
    "*   **Optimizer**: An optimizer is a function or an algorithm that modifies the weights and learning rate. Thus, it helps in reducing the overall loss and improve the accuracy.\n",
    "\n",
    "*   **Loss**: loss is a number indicating how bad the model's prediction was on a single example.\n",
    "\n",
    "*   **Learning Rate:** hwo much to change each time to get minimum loss\n",
    "*   **ADAM:** Adam is an alternative optimization algorithm that provides more efficient neural network weights by running repeated cycles of “adaptive moment estimation.”\n",
    "\n",
    "\n",
    "*   **Sparse_catagorigal_crossed_entrophy:** Save and categorize content based on your preferences. Computes the crossentropy loss between the labels and predictions.\n",
    "\n",
    "\n",
    "\n"
   ]
  },
  {
   "cell_type": "code",
   "execution_count": 10,
   "metadata": {
    "id": "Lr8-agitQjpy"
   },
   "outputs": [],
   "source": [
    "model.compile(optimizer=Adam(learning_rate=0.0001), loss='sparse_categorical_crossentropy', metrics=['Accuracy'])"
   ]
  },
  {
   "cell_type": "markdown",
   "metadata": {
    "id": "yWAOMbiDr0ay"
   },
   "source": [
    "# Train the data by calling the fit function\n",
    "\n",
    "\n",
    "*   **Batch size:**a number of samples processed before the model is updated. \n",
    "\n",
    "*  **Epochs:**the total number of iterations of all the training data in one cycle for training the machine learning model. \n",
    "*   **Verbose:**the choice that how you want to see the output of your Nural Network while it's training. If you set verbose = 0, It will show nothing.\n",
    "\n",
    "\n",
    "*   We'll see that Accuracy increases and loss decreases with each epoch\n",
    "*   **Validation split** helps to improve the model performance by fine-tuning the model after each epoch.\n",
    "\n",
    "\n",
    "\n",
    "\n",
    "\n",
    "\n",
    "\n"
   ]
  },
  {
   "cell_type": "code",
   "execution_count": 11,
   "metadata": {
    "id": "43kC2OZMrn0V"
   },
   "outputs": [
    {
     "name": "stdout",
     "output_type": "stream",
     "text": [
      "Epoch 1/30\n",
      "189/189 - 1s - loss: 0.6690 - Accuracy: 0.5529 - val_loss: 0.6593 - val_Accuracy: 0.6286 - 983ms/epoch - 5ms/step\n",
      "Epoch 2/30\n",
      "189/189 - 0s - loss: 0.6469 - Accuracy: 0.6577 - val_loss: 0.6308 - val_Accuracy: 0.7095 - 245ms/epoch - 1ms/step\n",
      "Epoch 3/30\n",
      "189/189 - 0s - loss: 0.6199 - Accuracy: 0.7291 - val_loss: 0.6058 - val_Accuracy: 0.7333 - 244ms/epoch - 1ms/step\n",
      "Epoch 4/30\n",
      "189/189 - 0s - loss: 0.5954 - Accuracy: 0.7598 - val_loss: 0.5804 - val_Accuracy: 0.7810 - 243ms/epoch - 1ms/step\n",
      "Epoch 5/30\n",
      "189/189 - 0s - loss: 0.5696 - Accuracy: 0.7910 - val_loss: 0.5535 - val_Accuracy: 0.8143 - 247ms/epoch - 1ms/step\n",
      "Epoch 6/30\n",
      "189/189 - 0s - loss: 0.5425 - Accuracy: 0.8090 - val_loss: 0.5253 - val_Accuracy: 0.8238 - 274ms/epoch - 1ms/step\n",
      "Epoch 7/30\n",
      "189/189 - 0s - loss: 0.5146 - Accuracy: 0.8333 - val_loss: 0.4967 - val_Accuracy: 0.8476 - 240ms/epoch - 1ms/step\n",
      "Epoch 8/30\n",
      "189/189 - 0s - loss: 0.4867 - Accuracy: 0.8545 - val_loss: 0.4693 - val_Accuracy: 0.8571 - 232ms/epoch - 1ms/step\n",
      "Epoch 9/30\n",
      "189/189 - 0s - loss: 0.4598 - Accuracy: 0.8635 - val_loss: 0.4430 - val_Accuracy: 0.8619 - 239ms/epoch - 1ms/step\n",
      "Epoch 10/30\n",
      "189/189 - 0s - loss: 0.4343 - Accuracy: 0.8735 - val_loss: 0.4189 - val_Accuracy: 0.8762 - 236ms/epoch - 1ms/step\n",
      "Epoch 11/30\n",
      "189/189 - 0s - loss: 0.4111 - Accuracy: 0.8820 - val_loss: 0.3969 - val_Accuracy: 0.8857 - 239ms/epoch - 1ms/step\n",
      "Epoch 12/30\n",
      "189/189 - 0s - loss: 0.3903 - Accuracy: 0.8873 - val_loss: 0.3771 - val_Accuracy: 0.8857 - 238ms/epoch - 1ms/step\n",
      "Epoch 13/30\n",
      "189/189 - 0s - loss: 0.3721 - Accuracy: 0.8942 - val_loss: 0.3605 - val_Accuracy: 0.8905 - 250ms/epoch - 1ms/step\n",
      "Epoch 14/30\n",
      "189/189 - 0s - loss: 0.3563 - Accuracy: 0.8989 - val_loss: 0.3465 - val_Accuracy: 0.9048 - 241ms/epoch - 1ms/step\n",
      "Epoch 15/30\n",
      "189/189 - 0s - loss: 0.3434 - Accuracy: 0.9053 - val_loss: 0.3338 - val_Accuracy: 0.9048 - 244ms/epoch - 1ms/step\n",
      "Epoch 16/30\n",
      "189/189 - 0s - loss: 0.3321 - Accuracy: 0.9063 - val_loss: 0.3240 - val_Accuracy: 0.9048 - 257ms/epoch - 1ms/step\n",
      "Epoch 17/30\n",
      "189/189 - 0s - loss: 0.3225 - Accuracy: 0.9101 - val_loss: 0.3157 - val_Accuracy: 0.9143 - 242ms/epoch - 1ms/step\n",
      "Epoch 18/30\n",
      "189/189 - 0s - loss: 0.3145 - Accuracy: 0.9122 - val_loss: 0.3078 - val_Accuracy: 0.9143 - 253ms/epoch - 1ms/step\n",
      "Epoch 19/30\n",
      "189/189 - 0s - loss: 0.3076 - Accuracy: 0.9196 - val_loss: 0.3013 - val_Accuracy: 0.9143 - 252ms/epoch - 1ms/step\n",
      "Epoch 20/30\n",
      "189/189 - 0s - loss: 0.3019 - Accuracy: 0.9190 - val_loss: 0.2959 - val_Accuracy: 0.9143 - 260ms/epoch - 1ms/step\n",
      "Epoch 21/30\n",
      "189/189 - 0s - loss: 0.2969 - Accuracy: 0.9196 - val_loss: 0.2919 - val_Accuracy: 0.9333 - 241ms/epoch - 1ms/step\n",
      "Epoch 22/30\n",
      "189/189 - 0s - loss: 0.2925 - Accuracy: 0.9228 - val_loss: 0.2878 - val_Accuracy: 0.9333 - 240ms/epoch - 1ms/step\n",
      "Epoch 23/30\n",
      "189/189 - 0s - loss: 0.2888 - Accuracy: 0.9196 - val_loss: 0.2855 - val_Accuracy: 0.9429 - 240ms/epoch - 1ms/step\n",
      "Epoch 24/30\n",
      "189/189 - 0s - loss: 0.2857 - Accuracy: 0.9265 - val_loss: 0.2812 - val_Accuracy: 0.9333 - 256ms/epoch - 1ms/step\n",
      "Epoch 25/30\n",
      "189/189 - 0s - loss: 0.2830 - Accuracy: 0.9243 - val_loss: 0.2785 - val_Accuracy: 0.9333 - 288ms/epoch - 2ms/step\n",
      "Epoch 26/30\n",
      "189/189 - 0s - loss: 0.2807 - Accuracy: 0.9275 - val_loss: 0.2767 - val_Accuracy: 0.9333 - 251ms/epoch - 1ms/step\n",
      "Epoch 27/30\n",
      "189/189 - 0s - loss: 0.2784 - Accuracy: 0.9265 - val_loss: 0.2744 - val_Accuracy: 0.9333 - 240ms/epoch - 1ms/step\n",
      "Epoch 28/30\n",
      "189/189 - 0s - loss: 0.2764 - Accuracy: 0.9286 - val_loss: 0.2722 - val_Accuracy: 0.9333 - 239ms/epoch - 1ms/step\n",
      "Epoch 29/30\n",
      "189/189 - 0s - loss: 0.2747 - Accuracy: 0.9270 - val_loss: 0.2706 - val_Accuracy: 0.9333 - 280ms/epoch - 1ms/step\n",
      "Epoch 30/30\n",
      "189/189 - 0s - loss: 0.2732 - Accuracy: 0.9280 - val_loss: 0.2689 - val_Accuracy: 0.9333 - 238ms/epoch - 1ms/step\n"
     ]
    },
    {
     "data": {
      "text/plain": [
       "<keras.callbacks.History at 0x20840fc1940>"
      ]
     },
     "execution_count": 11,
     "metadata": {},
     "output_type": "execute_result"
    }
   ],
   "source": [
    "model.fit(x=scaled_train_samples, y=train_labels, validation_split=0.1, batch_size=10, epochs=30, shuffle=True, verbose=2 )"
   ]
  },
  {
   "cell_type": "markdown",
   "metadata": {
    "id": "ohI8qXymzPHH"
   },
   "source": [
    "# Train, Test, & Validation Sets\n",
    "\n",
    "\n",
    "*   **The training set:** It's the set of data used to train the model.\n",
    "\n",
    "*   **The validation set:**  that is used to validate our model during training. validation set is to ensure that our model is not *overfitting* to the data in the training set. \n",
    "*   **The test set:** is a set of data that is used to test the model after the model has already been trained. The test set is separate from both the training set and validation set.\n",
    "\n",
    "\n",
    "\n",
    "\n"
   ]
  },
  {
   "cell_type": "markdown",
   "metadata": {
    "id": "8C2EeaSbzOeq"
   },
   "source": [
    "# Here we'll create a test dataset"
   ]
  },
  {
   "cell_type": "code",
   "execution_count": 12,
   "metadata": {
    "id": "29MdnciGs7z0"
   },
   "outputs": [],
   "source": [
    "test_labels=[]\n",
    "test_samples=[]\n",
    "\n",
    "for i in range(50):\n",
    "  #1 means side effect\n",
    "  random_younger = randint(13,65)\n",
    "  test_samples.append(random_younger)\n",
    "  test_labels.append(1)\n",
    "\n",
    "  random_older = randint(65,100)\n",
    "  test_samples.append(random_older)\n",
    "  test_labels.append(0)\n",
    "\n",
    "for i in range(1000):\n",
    "  random_younger = randint(13,65)\n",
    "  test_samples.append(random_younger)\n",
    "  test_labels.append(0)\n",
    "\n",
    "  random_older = randint(65,100)\n",
    "  test_samples.append(random_older)\n",
    "  test_labels.append(1)\n",
    "\n",
    "test_samples = np.array(test_samples)\n",
    "test_labels = np.array(test_labels)\n",
    "test_labels, test_samples = shuffle(test_labels, test_samples)\n",
    "\n",
    "scaler = MinMaxScaler(feature_range= (0,1))\n",
    "scaled_test_samples = scaler.fit_transform(test_samples.reshape(-1,1))"
   ]
  },
  {
   "cell_type": "markdown",
   "metadata": {
    "id": "UkOoBVyU0LVT"
   },
   "source": [
    "# Making Predictions\n",
    "\n",
    "\n",
    "*   For predicting, essentially what we're doing is passing our **unlabeled test data** to the model and having the model predict on what it thinks about each sample in our test data. \n",
    "\n",
    "*   \n",
    "\n"
   ]
  },
  {
   "cell_type": "code",
   "execution_count": 13,
   "metadata": {
    "id": "Fp8pZzKQ1HII"
   },
   "outputs": [],
   "source": [
    "predictions = model.predict(x=scaled_test_samples, batch_size=10, verbose=0)\n",
    "rounded_predictions= np.argmax(predictions, axis=-1)"
   ]
  },
  {
   "cell_type": "markdown",
   "metadata": {
    "id": "7XWeXhZy7hU7"
   },
   "source": [
    "# Create a Confusion Matrix for Neural Network Predictions"
   ]
  },
  {
   "cell_type": "code",
   "execution_count": 14,
   "metadata": {
    "id": "JIVJcaB_7-9i"
   },
   "outputs": [],
   "source": [
    "%matplotlib inline\n",
    "from sklearn.metrics import confusion_matrix\n",
    "import itertools\n",
    "import matplotlib.pyplot as plt"
   ]
  },
  {
   "cell_type": "code",
   "execution_count": 15,
   "metadata": {
    "id": "i59GIlqV8Ah4"
   },
   "outputs": [],
   "source": [
    "cm = confusion_matrix(y_true=test_labels, y_pred=rounded_predictions)"
   ]
  },
  {
   "cell_type": "markdown",
   "metadata": {
    "id": "Lxc61vgs8HFo"
   },
   "source": [
    "called **plot_confusion_matrix()** that came directly from scikit-learn's website."
   ]
  },
  {
   "cell_type": "code",
   "execution_count": 16,
   "metadata": {
    "id": "lTcLxOXq8JZ5"
   },
   "outputs": [],
   "source": [
    "def plot_confusion_matrix(cm, classes,\n",
    "                        normalize=False,\n",
    "                        title='Confusion matrix',\n",
    "                        cmap=plt.cm.Blues):\n",
    "    \"\"\"\n",
    "    This function prints and plots the confusion matrix.\n",
    "    Normalization can be applied by setting `normalize=True`.\n",
    "    \"\"\"\n",
    "    plt.imshow(cm, interpolation='nearest', cmap=cmap)\n",
    "    plt.title(title)\n",
    "    plt.colorbar()\n",
    "    tick_marks = np.arange(len(classes))\n",
    "    plt.xticks(tick_marks, classes, rotation=45)\n",
    "    plt.yticks(tick_marks, classes)\n",
    "\n",
    "    if normalize:\n",
    "        cm = cm.astype('float') / cm.sum(axis=1)[:, np.newaxis]\n",
    "        print(\"Normalized confusion matrix\")\n",
    "    else:\n",
    "        print('Confusion matrix, without normalization')\n",
    "\n",
    "    print(cm)\n",
    "\n",
    "    thresh = cm.max() / 2.\n",
    "    for i, j in itertools.product(range(cm.shape[0]), range(cm.shape[1])):\n",
    "        plt.text(j, i, cm[i, j],\n",
    "            horizontalalignment=\"center\",\n",
    "            color=\"white\" if cm[i, j] > thresh else \"black\")\n",
    "\n",
    "    plt.tight_layout()\n",
    "    plt.ylabel('True label')\n",
    "    plt.xlabel('Predicted label')"
   ]
  },
  {
   "cell_type": "code",
   "execution_count": 17,
   "metadata": {
    "colab": {
     "base_uri": "https://localhost:8080/",
     "height": 363
    },
    "id": "vSLmLxx58NyQ",
    "outputId": "f0a96a3f-ebab-4ff1-e8f0-768eb48170d4"
   },
   "outputs": [
    {
     "name": "stdout",
     "output_type": "stream",
     "text": [
      "Confusion matrix, without normalization\n",
      "[[ 950  100]\n",
      " [  44 1006]]\n"
     ]
    },
    {
     "data": {
      "image/png": "[encoded data removed]",
      "text/plain": [
       "<Figure size 640x480 with 2 Axes>"
      ]
     },
     "metadata": {},
     "output_type": "display_data"
    }
   ],
   "source": [
    "cm_plot_labels = ['no_side_effects','had_side_effects']\n",
    "plot_confusion_matrix(cm=cm, classes=cm_plot_labels, title='Confusion Matrix')"
   ]
  },
  {
   "cell_type": "markdown",
   "metadata": {
    "id": "9hub5bEJ9p7Z"
   },
   "source": [
    "# Now we'll save the model on the disk for later use"
   ]
  },
  {
   "cell_type": "code",
   "execution_count": 18,
   "metadata": {
    "id": "SgUiTnMp9yw7"
   },
   "outputs": [],
   "source": [
    "import os.path\n",
    "if os.path.isfile('models/medical.h5') is False:\n",
    "  model.save('models/medical.h5')\n"
   ]
  },
  {
   "cell_type": "markdown",
   "metadata": {
    "id": "UcIpJ5_u-kcI"
   },
   "source": [
    "# Load model\n",
    "\n",
    "\n",
    "\n"
   ]
  },
  {
   "cell_type": "code",
   "execution_count": 19,
   "metadata": {
    "colab": {
     "base_uri": "https://localhost:8080/"
    },
    "id": "RVBcJShJ-ONx",
    "outputId": "0db3e744-d419-4e20-cb73-624ca03482a6"
   },
   "outputs": [
    {
     "name": "stdout",
     "output_type": "stream",
     "text": [
      "Model: \"sequential\"\n",
      "_________________________________________________________________\n",
      " Layer (type)                Output Shape              Param #   \n",
      "=================================================================\n",
      " dense (Dense)               (None, 16)                32        \n",
      "                                                                 \n",
      " dense_1 (Dense)             (None, 32)                544       \n",
      "                                                                 \n",
      " dense_2 (Dense)             (None, 2)                 66        \n",
      "                                                                 \n",
      "=================================================================\n",
      "Total params: 642\n",
      "Trainable params: 642\n",
      "Non-trainable params: 0\n",
      "_________________________________________________________________\n"
     ]
    }
   ],
   "source": [
    "from tensorflow.keras.models import load_model\n",
    "new_model=load_model('models/medical.h5')\n",
    "new_model.summary()"
   ]
  }
 ],
 "metadata": {
  "colab": {
   "provenance": []
  },
  "kernelspec": {
   "display_name": "Python 3 (ipykernel)",
   "language": "python",
   "name": "python3"
  },
  "language_info": {
   "codemirror_mode": {
    "name": "ipython",
    "version": 3
   },
   "file_extension": ".py",
   "mimetype": "text/x-python",
   "name": "python",
   "nbconvert_exporter": "python",
   "pygments_lexer": "ipython3",
   "version": "3.9.9"
  }
 },
 "nbformat": 4,
 "nbformat_minor": 1
}
